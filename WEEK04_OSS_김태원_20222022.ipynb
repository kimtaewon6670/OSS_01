{
  "nbformat": 4,
  "nbformat_minor": 0,
  "metadata": {
    "colab": {
      "provenance": []
    },
    "kernelspec": {
      "name": "python3",
      "display_name": "Python 3"
    },
    "language_info": {
      "name": "python"
    }
  },
  "cells": [
    {
      "cell_type": "code",
      "execution_count": 1,
      "metadata": {
        "colab": {
          "base_uri": "https://localhost:8080/"
        },
        "id": "B2HqabeCJtUz",
        "outputId": "a043a210-1647-46de-e13c-1dcd299d66d6"
      },
      "outputs": [
        {
          "output_type": "stream",
          "name": "stdout",
          "text": [
            "[36, 42, 38, 33, 64]\n"
          ]
        }
      ],
      "source": [
        "symbols = \"$*&!@\"\n",
        "codes = []\n",
        "for symbol in symbols:\n",
        "  codes.append(ord(symbol))\n",
        "print(codes)"
      ]
    },
    {
      "cell_type": "code",
      "source": [
        "symbols = \"$*&!@\"\n",
        "codes = [ord(symbol) for symbol in symbols]\n",
        "print(codes)"
      ],
      "metadata": {
        "colab": {
          "base_uri": "https://localhost:8080/"
        },
        "id": "y8txWvvzJ-VA",
        "outputId": "8d03913d-b6af-4ff9-d812-b264f79f6a8f"
      },
      "execution_count": 2,
      "outputs": [
        {
          "output_type": "stream",
          "name": "stdout",
          "text": [
            "[36, 42, 38, 33, 64]\n"
          ]
        }
      ]
    },
    {
      "cell_type": "code",
      "source": [
        "x = '\"!~$$*&!@'\n",
        "dummy = [ord(x) for x in x]\n",
        "\n",
        "print(x)\n",
        "print(dummy)"
      ],
      "metadata": {
        "colab": {
          "base_uri": "https://localhost:8080/"
        },
        "id": "LPVRc38vKHsO",
        "outputId": "d1805264-1936-430c-ac38-ecb55569eb85"
      },
      "execution_count": 3,
      "outputs": [
        {
          "output_type": "stream",
          "name": "stdout",
          "text": [
            "\"!~$$*&!@\n",
            "[34, 33, 126, 36, 36, 42, 38, 33, 64]\n"
          ]
        }
      ]
    },
    {
      "cell_type": "code",
      "source": [
        "symbols = '\"!~$$*&!@'\n",
        "beyond_ascii = [ord(s) for s in symbols if ord(s) > 32]\n",
        "print(beyond_ascii)"
      ],
      "metadata": {
        "colab": {
          "base_uri": "https://localhost:8080/"
        },
        "id": "XR1pLB-5KSD3",
        "outputId": "f207caaa-4235-4089-9768-67e234230465"
      },
      "execution_count": 4,
      "outputs": [
        {
          "output_type": "stream",
          "name": "stdout",
          "text": [
            "[34, 33, 126, 36, 36, 42, 38, 33, 64]\n"
          ]
        }
      ]
    },
    {
      "cell_type": "code",
      "source": [
        "symbols = '\"!~$$*&!@'\n",
        "beyond_ascii = list(filter(lambda c: c>64, map(ord,symbols)))\n",
        "print(beyond_ascii,\"\\n\")\n",
        "print(f\"Map function:\\n>>> {map(ord, symbols)}\")\n",
        "print(f\"List after map:\\n>>> {list(map(ord,symbols))}\")\n"
      ],
      "metadata": {
        "colab": {
          "base_uri": "https://localhost:8080/"
        },
        "id": "EvlxMK6DKfGD",
        "outputId": "dea434ba-6a35-477e-dd8c-a79319307f87"
      },
      "execution_count": 5,
      "outputs": [
        {
          "output_type": "stream",
          "name": "stdout",
          "text": [
            "[126] \n",
            "\n",
            "Map function:\n",
            ">>> <map object at 0x7d61c9082230>\n",
            "List after map:\n",
            ">>> [34, 33, 126, 36, 36, 42, 38, 33, 64]\n"
          ]
        }
      ]
    },
    {
      "cell_type": "code",
      "source": [
        "colors = [\"black\", \"white\"]\n",
        "sizes = [\"S\", \"M\",\"L\"]\n",
        "tshirts = [(color,size) for color in colors for size in sizes]\n",
        "print(tshirts)\n",
        "for color in colors:\n",
        "  for size in sizes:\n",
        "    print((color,size))"
      ],
      "metadata": {
        "colab": {
          "base_uri": "https://localhost:8080/"
        },
        "id": "t2lxVjFBLFWO",
        "outputId": "4224a90f-0b61-471b-fbf9-c53caa29a2c1"
      },
      "execution_count": 6,
      "outputs": [
        {
          "output_type": "stream",
          "name": "stdout",
          "text": [
            "[('black', 'S'), ('black', 'M'), ('black', 'L'), ('white', 'S'), ('white', 'M'), ('white', 'L')]\n",
            "('black', 'S')\n",
            "('black', 'M')\n",
            "('black', 'L')\n",
            "('white', 'S')\n",
            "('white', 'M')\n",
            "('white', 'L')\n"
          ]
        }
      ]
    },
    {
      "cell_type": "code",
      "source": [
        "symbols = \"!#^&&#\"\n",
        "ord_s = tuple(ord(s) for s in symbols if ord(s))\n",
        "print(ord_s)\n"
      ],
      "metadata": {
        "colab": {
          "base_uri": "https://localhost:8080/"
        },
        "id": "FrkGhdRELeLu",
        "outputId": "06bd15f2-1f91-4a25-9867-f7745ac35501"
      },
      "execution_count": 7,
      "outputs": [
        {
          "output_type": "stream",
          "name": "stdout",
          "text": [
            "(33, 35, 94, 38, 38, 35)\n"
          ]
        }
      ]
    },
    {
      "cell_type": "code",
      "source": [
        "colors = [\"black\",\"white\"]\n",
        "sizes = [\"S\",\"M\",\"L\"]\n",
        "\n",
        "for tshirt in ('{} {}'.format(c,s) for s in sizes for c in colors):\n",
        "  print(tshirt)"
      ],
      "metadata": {
        "colab": {
          "base_uri": "https://localhost:8080/"
        },
        "id": "YHiQTLjmLrlW",
        "outputId": "892bce62-b4b9-4a5b-a8ca-a6831c9a9249"
      },
      "execution_count": 9,
      "outputs": [
        {
          "output_type": "stream",
          "name": "stdout",
          "text": [
            "black S\n",
            "white S\n",
            "black M\n",
            "white M\n",
            "black L\n",
            "white L\n"
          ]
        }
      ]
    },
    {
      "cell_type": "code",
      "source": [
        "lax_coordinates = (33.9425, -118.408056)\n",
        "city, year, pop, chg, area = (\"Tokyo\", 2003, 32450, 0.66, 8014)\n",
        "traveler_ids = [(\"USA\", \"31195855\"),\n",
        "                (\"BRA\",\"CE342567\"),\n",
        "                (\"ESP\",\"XDA205856\")]\n",
        "for passport in sorted(traveler_ids):\n",
        "  print(\"%s/%s\" %passport)\n",
        "  print(\"{}/{}\".format(passport[0], passport[1]))\n",
        "  print(f\"{passport[0]}/{passport[1]}\")"
      ],
      "metadata": {
        "colab": {
          "base_uri": "https://localhost:8080/"
        },
        "id": "vcyPcAefMDkM",
        "outputId": "a52543ee-0e7d-4c3e-ad92-a48510c4eb3b"
      },
      "execution_count": 10,
      "outputs": [
        {
          "output_type": "stream",
          "name": "stdout",
          "text": [
            "BRA/CE342567\n",
            "BRA/CE342567\n",
            "BRA/CE342567\n",
            "ESP/XDA205856\n",
            "ESP/XDA205856\n",
            "ESP/XDA205856\n",
            "USA/31195855\n",
            "USA/31195855\n",
            "USA/31195855\n"
          ]
        }
      ]
    },
    {
      "cell_type": "code",
      "source": [
        "for country,_ in traveler_ids:\n",
        "  print(country)"
      ],
      "metadata": {
        "colab": {
          "base_uri": "https://localhost:8080/"
        },
        "id": "NgghDRD4M4aB",
        "outputId": "66b19406-e5ad-43f9-b815-d523b6120ddf"
      },
      "execution_count": 11,
      "outputs": [
        {
          "output_type": "stream",
          "name": "stdout",
          "text": [
            "USA\n",
            "BRA\n",
            "ESP\n"
          ]
        }
      ]
    },
    {
      "cell_type": "code",
      "source": [
        "lax_coordinates = (33.9425, -118.408056)\n",
        "latitude, longtitude = lax_coordinates\n",
        "print(latitude)\n",
        "print(longtitude)"
      ],
      "metadata": {
        "colab": {
          "base_uri": "https://localhost:8080/"
        },
        "id": "OBJfqDBnNB-G",
        "outputId": "92cb1371-1060-4fa6-c367-fc060685d273"
      },
      "execution_count": 12,
      "outputs": [
        {
          "output_type": "stream",
          "name": "stdout",
          "text": [
            "33.9425\n",
            "-118.408056\n"
          ]
        }
      ]
    },
    {
      "cell_type": "code",
      "source": [
        "a = 10\n",
        "b = 20\n",
        "b,a = a,b\n",
        "print(a,b)"
      ],
      "metadata": {
        "colab": {
          "base_uri": "https://localhost:8080/"
        },
        "id": "yRJKDRwUNUlf",
        "outputId": "afee7e0d-9ca8-494f-8da0-06f7a533d445"
      },
      "execution_count": 13,
      "outputs": [
        {
          "output_type": "stream",
          "name": "stdout",
          "text": [
            "20 10\n"
          ]
        }
      ]
    },
    {
      "cell_type": "code",
      "source": [
        "divmod(20,8)"
      ],
      "metadata": {
        "colab": {
          "base_uri": "https://localhost:8080/"
        },
        "id": "g-QKP3L0NaGp",
        "outputId": "78c396a8-e2a8-4f60-b89f-929263a20757"
      },
      "execution_count": 15,
      "outputs": [
        {
          "output_type": "execute_result",
          "data": {
            "text/plain": [
              "(2, 4)"
            ]
          },
          "metadata": {},
          "execution_count": 15
        }
      ]
    },
    {
      "cell_type": "code",
      "source": [
        "t = (20,8)\n",
        "divmod(*t)"
      ],
      "metadata": {
        "colab": {
          "base_uri": "https://localhost:8080/"
        },
        "id": "WrIIRbqVNtfX",
        "outputId": "7e877ac2-42bb-40d8-e643-a23c8ef5d875"
      },
      "execution_count": 16,
      "outputs": [
        {
          "output_type": "execute_result",
          "data": {
            "text/plain": [
              "(2, 4)"
            ]
          },
          "metadata": {},
          "execution_count": 16
        }
      ]
    },
    {
      "cell_type": "code",
      "source": [
        "quotient, remainder = divmod(*t)\n",
        "quotient, remainder"
      ],
      "metadata": {
        "colab": {
          "base_uri": "https://localhost:8080/"
        },
        "id": "74taK3FGNwHB",
        "outputId": "fb614fad-52be-46e5-a407-6659204b4c24"
      },
      "execution_count": 17,
      "outputs": [
        {
          "output_type": "execute_result",
          "data": {
            "text/plain": [
              "(2, 4)"
            ]
          },
          "metadata": {},
          "execution_count": 17
        }
      ]
    },
    {
      "cell_type": "code",
      "source": [
        "import os\n",
        "_, filename = os.path.split(\"/home/luciano/.shh/idrsa.pub\")\n",
        "filename"
      ],
      "metadata": {
        "colab": {
          "base_uri": "https://localhost:8080/",
          "height": 35
        },
        "id": "xcyq9z4RN3Wf",
        "outputId": "fbe1af15-5649-4a7a-87f7-72aca5fe9485"
      },
      "execution_count": 18,
      "outputs": [
        {
          "output_type": "execute_result",
          "data": {
            "text/plain": [
              "'idrsa.pub'"
            ],
            "application/vnd.google.colaboratory.intrinsic+json": {
              "type": "string"
            }
          },
          "metadata": {},
          "execution_count": 18
        }
      ]
    },
    {
      "cell_type": "code",
      "source": [
        "a,b,*rest = range(5)\n",
        "a,b,rest"
      ],
      "metadata": {
        "colab": {
          "base_uri": "https://localhost:8080/"
        },
        "id": "O8sVGqAVOFUG",
        "outputId": "26dc925d-a1e1-4370-eb83-980759009f53"
      },
      "execution_count": 19,
      "outputs": [
        {
          "output_type": "execute_result",
          "data": {
            "text/plain": [
              "(0, 1, [2, 3, 4])"
            ]
          },
          "metadata": {},
          "execution_count": 19
        }
      ]
    },
    {
      "cell_type": "code",
      "source": [
        "a,b,*rest = range(3)\n",
        "a,b,rest"
      ],
      "metadata": {
        "colab": {
          "base_uri": "https://localhost:8080/"
        },
        "id": "O90DXQgAOJ1w",
        "outputId": "68986fc4-6b3b-4133-84dc-8b131ddfbd7a"
      },
      "execution_count": 20,
      "outputs": [
        {
          "output_type": "execute_result",
          "data": {
            "text/plain": [
              "(0, 1, [2])"
            ]
          },
          "metadata": {},
          "execution_count": 20
        }
      ]
    },
    {
      "cell_type": "code",
      "source": [
        "a,b,*rest = range(2)\n",
        "a,b,rest"
      ],
      "metadata": {
        "colab": {
          "base_uri": "https://localhost:8080/"
        },
        "id": "oJuyde5NOMZ6",
        "outputId": "55e627bf-6a9b-4bb0-efc9-dba5c0696853"
      },
      "execution_count": 21,
      "outputs": [
        {
          "output_type": "execute_result",
          "data": {
            "text/plain": [
              "(0, 1, [])"
            ]
          },
          "metadata": {},
          "execution_count": 21
        }
      ]
    },
    {
      "cell_type": "code",
      "source": [
        "a, *body,c,d = range(5)\n",
        "a,body,c,d"
      ],
      "metadata": {
        "colab": {
          "base_uri": "https://localhost:8080/"
        },
        "id": "Pnp-ckrMOP1e",
        "outputId": "d23b057d-ec2d-46f0-96a8-3d8e43cf532f"
      },
      "execution_count": 22,
      "outputs": [
        {
          "output_type": "execute_result",
          "data": {
            "text/plain": [
              "(0, [1, 2], 3, 4)"
            ]
          },
          "metadata": {},
          "execution_count": 22
        }
      ]
    },
    {
      "cell_type": "code",
      "source": [
        "*head,b,c,d = range(5)\n",
        "head,b,c,d"
      ],
      "metadata": {
        "colab": {
          "base_uri": "https://localhost:8080/"
        },
        "id": "utnQc3uiOUdK",
        "outputId": "9354c4b1-f642-4384-f2c5-8ec0d8a0de44"
      },
      "execution_count": 23,
      "outputs": [
        {
          "output_type": "execute_result",
          "data": {
            "text/plain": [
              "([0, 1], 2, 3, 4)"
            ]
          },
          "metadata": {},
          "execution_count": 23
        }
      ]
    },
    {
      "cell_type": "code",
      "source": [
        "metro_areas = [\n",
        "    (\"Tokyo\",\"JP\",36.933,(35,139)),\n",
        "    (\"Delhi NCR\",\"IN\",21,(28,77)),\n",
        "    (\"Mexico City\",\"MX\",20,(19,-99)),\n",
        "    (\"New York_Newark\",\"US\",20,(40,-74)),\n",
        "    (\"Sao Paulo\",\"BR\",19,(-23,-46))\n",
        "]\n",
        "\n",
        "print(\"{:15} \\ {:^9} \\ {:^9}\".format(\"\",\"lat.\",\"long\"))\n",
        "fmt = \"{:15} \\ {:9.4f} \\ {:9.4f}\"\n",
        "\n",
        "for name, cc, pop, (lat,longi) in metro_areas:\n",
        "  if longi <= 0:\n",
        "    print(fmt.format(name,lat,longi))"
      ],
      "metadata": {
        "colab": {
          "base_uri": "https://localhost:8080/"
        },
        "id": "UWL1jFK1Ob1O",
        "outputId": "997b2112-4fa1-4b15-84aa-97c053c532f0"
      },
      "execution_count": 24,
      "outputs": [
        {
          "output_type": "stream",
          "name": "stdout",
          "text": [
            "                \\   lat.    \\   long   \n",
            "Mexico City     \\   19.0000 \\  -99.0000\n",
            "New York_Newark \\   40.0000 \\  -74.0000\n",
            "Sao Paulo       \\  -23.0000 \\  -46.0000\n"
          ]
        },
        {
          "output_type": "stream",
          "name": "stderr",
          "text": [
            "<>:9: SyntaxWarning: invalid escape sequence '\\ '\n",
            "<>:10: SyntaxWarning: invalid escape sequence '\\ '\n",
            "<>:9: SyntaxWarning: invalid escape sequence '\\ '\n",
            "<>:10: SyntaxWarning: invalid escape sequence '\\ '\n",
            "/tmp/ipython-input-1609294112.py:9: SyntaxWarning: invalid escape sequence '\\ '\n",
            "  print(\"{:15} \\ {:^9} \\ {:^9}\".format(\"\",\"lat.\",\"long\"))\n",
            "/tmp/ipython-input-1609294112.py:10: SyntaxWarning: invalid escape sequence '\\ '\n",
            "  fmt = \"{:15} \\ {:9.4f} \\ {:9.4f}\"\n"
          ]
        }
      ]
    },
    {
      "cell_type": "code",
      "source": [
        "from collections import namedtuple\n",
        "City = namedtuple(\"City\",\"name country population coordinates\")\n",
        "tokyo = City(\"Tokyo\",\"JP\",36.933,(35,689,139.691))\n",
        "tokyo"
      ],
      "metadata": {
        "colab": {
          "base_uri": "https://localhost:8080/"
        },
        "id": "vKROw0g6Ppsh",
        "outputId": "d630c7ce-c20e-4b5c-c945-7209f1b87c34"
      },
      "execution_count": 25,
      "outputs": [
        {
          "output_type": "execute_result",
          "data": {
            "text/plain": [
              "City(name='Tokyo', country='JP', population=36.933, coordinates=(35, 689, 139.691))"
            ]
          },
          "metadata": {},
          "execution_count": 25
        }
      ]
    },
    {
      "cell_type": "code",
      "source": [
        "tokyo.population"
      ],
      "metadata": {
        "colab": {
          "base_uri": "https://localhost:8080/"
        },
        "id": "KiI5Sc6uP-Gg",
        "outputId": "3767a325-682e-4bde-9148-ec68d335e0e5"
      },
      "execution_count": 26,
      "outputs": [
        {
          "output_type": "execute_result",
          "data": {
            "text/plain": [
              "36.933"
            ]
          },
          "metadata": {},
          "execution_count": 26
        }
      ]
    },
    {
      "cell_type": "code",
      "source": [
        "tokyo.coordinates"
      ],
      "metadata": {
        "colab": {
          "base_uri": "https://localhost:8080/"
        },
        "id": "63SyDZg0QAeH",
        "outputId": "a535ff91-fa11-4d62-9170-082ef2e26059"
      },
      "execution_count": 27,
      "outputs": [
        {
          "output_type": "execute_result",
          "data": {
            "text/plain": [
              "(35, 689, 139.691)"
            ]
          },
          "metadata": {},
          "execution_count": 27
        }
      ]
    },
    {
      "cell_type": "code",
      "source": [
        "tokyo[1]"
      ],
      "metadata": {
        "colab": {
          "base_uri": "https://localhost:8080/",
          "height": 35
        },
        "id": "u1qS70yWQDBN",
        "outputId": "c67db794-b108-4b65-afbd-8018b03a2f1e"
      },
      "execution_count": 28,
      "outputs": [
        {
          "output_type": "execute_result",
          "data": {
            "text/plain": [
              "'JP'"
            ],
            "application/vnd.google.colaboratory.intrinsic+json": {
              "type": "string"
            }
          },
          "metadata": {},
          "execution_count": 28
        }
      ]
    },
    {
      "cell_type": "code",
      "source": [
        "City._fields"
      ],
      "metadata": {
        "colab": {
          "base_uri": "https://localhost:8080/"
        },
        "id": "9QJxXwRhQGZX",
        "outputId": "8051b012-c905-48da-bfd6-f2ddd597789a"
      },
      "execution_count": 29,
      "outputs": [
        {
          "output_type": "execute_result",
          "data": {
            "text/plain": [
              "('name', 'country', 'population', 'coordinates')"
            ]
          },
          "metadata": {},
          "execution_count": 29
        }
      ]
    },
    {
      "cell_type": "code",
      "source": [
        "LatLong = namedtuple(\"LatLong\", \"lat long\")\n",
        "delhi_data = (\"Delhi NCR\", \"IN\", 21.935, LatLong(28.613, 77.208))\n",
        "\n",
        "delhi = City._make(delhi_data)\n",
        "delhi._asdict()"
      ],
      "metadata": {
        "colab": {
          "base_uri": "https://localhost:8080/"
        },
        "id": "WoYOlrKeQJxW",
        "outputId": "4626a7cb-8370-49e8-ff94-55e60677280b"
      },
      "execution_count": 30,
      "outputs": [
        {
          "output_type": "execute_result",
          "data": {
            "text/plain": [
              "{'name': 'Delhi NCR',\n",
              " 'country': 'IN',\n",
              " 'population': 21.935,\n",
              " 'coordinates': LatLong(lat=28.613, long=77.208)}"
            ]
          },
          "metadata": {},
          "execution_count": 30
        }
      ]
    },
    {
      "cell_type": "code",
      "source": [
        "for key, value in delhi._asdict().items():\n",
        "  print(key + \":\", value)"
      ],
      "metadata": {
        "colab": {
          "base_uri": "https://localhost:8080/"
        },
        "id": "UvqAhr3ZQh3Y",
        "outputId": "276231ca-ef7c-4c62-9280-9c8747f85800"
      },
      "execution_count": 31,
      "outputs": [
        {
          "output_type": "stream",
          "name": "stdout",
          "text": [
            "name: Delhi NCR\n",
            "country: IN\n",
            "population: 21.935\n",
            "coordinates: LatLong(lat=28.613, long=77.208)\n"
          ]
        }
      ]
    },
    {
      "cell_type": "code",
      "source": [
        "l = [10,20,30,40,50,60]\n",
        "l[:2]"
      ],
      "metadata": {
        "colab": {
          "base_uri": "https://localhost:8080/"
        },
        "id": "cdKALCTNQtiz",
        "outputId": "242f1904-a589-4bf5-af99-8475eb28a033"
      },
      "execution_count": 32,
      "outputs": [
        {
          "output_type": "execute_result",
          "data": {
            "text/plain": [
              "[10, 20]"
            ]
          },
          "metadata": {},
          "execution_count": 32
        }
      ]
    },
    {
      "cell_type": "code",
      "source": [
        "l[2:]"
      ],
      "metadata": {
        "colab": {
          "base_uri": "https://localhost:8080/"
        },
        "id": "ge_ueLIgQzBq",
        "outputId": "c85624ca-88e4-45c4-ece9-900a1773b46f"
      },
      "execution_count": 33,
      "outputs": [
        {
          "output_type": "execute_result",
          "data": {
            "text/plain": [
              "[30, 40, 50, 60]"
            ]
          },
          "metadata": {},
          "execution_count": 33
        }
      ]
    },
    {
      "cell_type": "code",
      "source": [
        "l[:3]"
      ],
      "metadata": {
        "colab": {
          "base_uri": "https://localhost:8080/"
        },
        "id": "w7l3UDZnQ1MW",
        "outputId": "d4a2222a-8e17-4b51-ea7e-8b7a585f23c0"
      },
      "execution_count": 34,
      "outputs": [
        {
          "output_type": "execute_result",
          "data": {
            "text/plain": [
              "[10, 20, 30]"
            ]
          },
          "metadata": {},
          "execution_count": 34
        }
      ]
    },
    {
      "cell_type": "code",
      "source": [
        "l[3:]"
      ],
      "metadata": {
        "colab": {
          "base_uri": "https://localhost:8080/"
        },
        "id": "wXlt28VvQ3ew",
        "outputId": "46396291-3922-4a4a-e731-5e4ca754ee11"
      },
      "execution_count": 35,
      "outputs": [
        {
          "output_type": "execute_result",
          "data": {
            "text/plain": [
              "[40, 50, 60]"
            ]
          },
          "metadata": {},
          "execution_count": 35
        }
      ]
    },
    {
      "cell_type": "code",
      "source": [
        "invoice = \"\"\"\n",
        "0.....6..................25........33......40.......\n",
        "1909  Pimoroni               $17.50   3     $52.50\n",
        "1489  6mm Tactile            $4.95    2     $9.90\n",
        "\"\"\"\n",
        "\n",
        "SKU = slice(0,6)\n",
        "DESCRIPTTION = slice(6,25)\n",
        "UNIT_PRICE = slice(25,33)\n",
        "QUANTITY = slice(33,40)\n",
        "ITEM_TOTAL = slice(40,None)\n",
        "line_items = invoice.split(\"\\n\")[2:]\n",
        "\n",
        "for item in line_items:\n",
        "  print(item[UNIT_PRICE], item[DESCRIPTTION])"
      ],
      "metadata": {
        "colab": {
          "base_uri": "https://localhost:8080/"
        },
        "id": "r_VnsHprQ7z2",
        "outputId": "cbaa9365-73d6-418b-d664-d96180522093"
      },
      "execution_count": 38,
      "outputs": [
        {
          "output_type": "stream",
          "name": "stdout",
          "text": [
            "    $17. Pimoroni           \n",
            "    $4.9 6mm Tactile        \n",
            " \n"
          ]
        }
      ]
    },
    {
      "cell_type": "code",
      "source": [
        "l = list(range(10))\n",
        "l"
      ],
      "metadata": {
        "colab": {
          "base_uri": "https://localhost:8080/"
        },
        "id": "XV-VdFlhSI7W",
        "outputId": "4f6ed1a8-0c0f-47d0-9a99-0c81a6be4bbd"
      },
      "execution_count": 39,
      "outputs": [
        {
          "output_type": "execute_result",
          "data": {
            "text/plain": [
              "[0, 1, 2, 3, 4, 5, 6, 7, 8, 9]"
            ]
          },
          "metadata": {},
          "execution_count": 39
        }
      ]
    },
    {
      "cell_type": "code",
      "source": [
        "l[2:5] = [20,30]\n",
        "l"
      ],
      "metadata": {
        "colab": {
          "base_uri": "https://localhost:8080/"
        },
        "id": "KSYzV2H4SMhz",
        "outputId": "36c67df2-01e5-4bb8-9fc7-c741f7d9f78b"
      },
      "execution_count": 40,
      "outputs": [
        {
          "output_type": "execute_result",
          "data": {
            "text/plain": [
              "[0, 1, 20, 30, 5, 6, 7, 8, 9]"
            ]
          },
          "metadata": {},
          "execution_count": 40
        }
      ]
    },
    {
      "cell_type": "code",
      "source": [
        "del l[5:7]\n",
        "l"
      ],
      "metadata": {
        "colab": {
          "base_uri": "https://localhost:8080/"
        },
        "id": "7P02dFpQSQAR",
        "outputId": "bcf1aa5a-e0ac-494e-db62-5aebec1cf43d"
      },
      "execution_count": 41,
      "outputs": [
        {
          "output_type": "execute_result",
          "data": {
            "text/plain": [
              "[0, 1, 20, 30, 5, 8, 9]"
            ]
          },
          "metadata": {},
          "execution_count": 41
        }
      ]
    },
    {
      "cell_type": "code",
      "source": [
        "l[3::2] = [11,22]\n",
        "l"
      ],
      "metadata": {
        "colab": {
          "base_uri": "https://localhost:8080/"
        },
        "id": "jZa7Ny5BSTC5",
        "outputId": "79806a6d-4f91-49b8-f747-4eae87018a63"
      },
      "execution_count": 42,
      "outputs": [
        {
          "output_type": "execute_result",
          "data": {
            "text/plain": [
              "[0, 1, 20, 11, 5, 22, 9]"
            ]
          },
          "metadata": {},
          "execution_count": 42
        }
      ]
    },
    {
      "cell_type": "code",
      "source": [
        "l[2:5] = 100"
      ],
      "metadata": {
        "colab": {
          "base_uri": "https://localhost:8080/",
          "height": 147
        },
        "id": "anUV_xA7SYLx",
        "outputId": "5a8357a9-3f09-4a56-d3ba-3a78db0a08c8"
      },
      "execution_count": 43,
      "outputs": [
        {
          "output_type": "error",
          "ename": "TypeError",
          "evalue": "must assign iterable to extended slice",
          "traceback": [
            "\u001b[0;31m---------------------------------------------------------------------------\u001b[0m",
            "\u001b[0;31mTypeError\u001b[0m                                 Traceback (most recent call last)",
            "\u001b[0;32m/tmp/ipython-input-559711174.py\u001b[0m in \u001b[0;36m<cell line: 0>\u001b[0;34m()\u001b[0m\n\u001b[0;32m----> 1\u001b[0;31m \u001b[0ml\u001b[0m\u001b[0;34m[\u001b[0m\u001b[0;36m2\u001b[0m\u001b[0;34m:\u001b[0m\u001b[0;36m5\u001b[0m\u001b[0;34m]\u001b[0m \u001b[0;34m=\u001b[0m \u001b[0;36m100\u001b[0m\u001b[0;34m\u001b[0m\u001b[0;34m\u001b[0m\u001b[0m\n\u001b[0m",
            "\u001b[0;31mTypeError\u001b[0m: must assign iterable to extended slice"
          ]
        }
      ]
    },
    {
      "cell_type": "code",
      "source": [
        "l[2:5] = [100]\n",
        "l"
      ],
      "metadata": {
        "colab": {
          "base_uri": "https://localhost:8080/"
        },
        "id": "Pt5BIE42Sbu_",
        "outputId": "b598a303-aa21-4a31-cc8a-92a1f3756666"
      },
      "execution_count": 44,
      "outputs": [
        {
          "output_type": "execute_result",
          "data": {
            "text/plain": [
              "[0, 1, 100, 22, 9]"
            ]
          },
          "metadata": {},
          "execution_count": 44
        }
      ]
    },
    {
      "cell_type": "code",
      "source": [
        "l = [1,2,3]\n",
        "l*5"
      ],
      "metadata": {
        "colab": {
          "base_uri": "https://localhost:8080/"
        },
        "id": "Vp16rkdnShMy",
        "outputId": "fbfb5fb7-d3d3-46d2-fa1c-7d9d4f0f8d8f"
      },
      "execution_count": 45,
      "outputs": [
        {
          "output_type": "execute_result",
          "data": {
            "text/plain": [
              "[1, 2, 3, 1, 2, 3, 1, 2, 3, 1, 2, 3, 1, 2, 3]"
            ]
          },
          "metadata": {},
          "execution_count": 45
        }
      ]
    },
    {
      "cell_type": "code",
      "source": [
        "5 *\"abcd\""
      ],
      "metadata": {
        "colab": {
          "base_uri": "https://localhost:8080/",
          "height": 35
        },
        "id": "gAo20KYESj1Q",
        "outputId": "825c200f-1370-483a-eb33-4f4f4d26cba7"
      },
      "execution_count": 46,
      "outputs": [
        {
          "output_type": "execute_result",
          "data": {
            "text/plain": [
              "'abcdabcdabcdabcdabcd'"
            ],
            "application/vnd.google.colaboratory.intrinsic+json": {
              "type": "string"
            }
          },
          "metadata": {},
          "execution_count": 46
        }
      ]
    },
    {
      "cell_type": "code",
      "source": [
        "board = [[\"_\"] *3 for i in range(3)]\n",
        "board"
      ],
      "metadata": {
        "colab": {
          "base_uri": "https://localhost:8080/"
        },
        "id": "x6f_-baTSmdP",
        "outputId": "d80e9ad6-ea59-448c-df97-40ecc9950353"
      },
      "execution_count": 47,
      "outputs": [
        {
          "output_type": "execute_result",
          "data": {
            "text/plain": [
              "[['_', '_', '_'], ['_', '_', '_'], ['_', '_', '_']]"
            ]
          },
          "metadata": {},
          "execution_count": 47
        }
      ]
    },
    {
      "cell_type": "code",
      "source": [
        "board[1][2] = \"X\"\n",
        "board"
      ],
      "metadata": {
        "colab": {
          "base_uri": "https://localhost:8080/"
        },
        "id": "lQ9nR3MRSrgN",
        "outputId": "9189ad11-e141-42b3-a183-fc95b4c0c1e9"
      },
      "execution_count": 48,
      "outputs": [
        {
          "output_type": "execute_result",
          "data": {
            "text/plain": [
              "[['_', '_', '_'], ['_', '_', 'X'], ['_', '_', '_']]"
            ]
          },
          "metadata": {},
          "execution_count": 48
        }
      ]
    },
    {
      "cell_type": "code",
      "source": [
        "weird_board = [['_']*3] *3\n",
        "weird_board"
      ],
      "metadata": {
        "colab": {
          "base_uri": "https://localhost:8080/"
        },
        "id": "gUfbDX9OSu4d",
        "outputId": "cddf235e-0c19-4ce9-ea00-a7570c7bd9f9"
      },
      "execution_count": 49,
      "outputs": [
        {
          "output_type": "execute_result",
          "data": {
            "text/plain": [
              "[['_', '_', '_'], ['_', '_', '_'], ['_', '_', '_']]"
            ]
          },
          "metadata": {},
          "execution_count": 49
        }
      ]
    },
    {
      "cell_type": "code",
      "source": [
        "weird_board[1][2] = \"0\"\n",
        "weird_board"
      ],
      "metadata": {
        "colab": {
          "base_uri": "https://localhost:8080/"
        },
        "id": "7_fWjcB4S4NW",
        "outputId": "f7238db2-1570-4b34-dea0-9931f6e50dab"
      },
      "execution_count": 50,
      "outputs": [
        {
          "output_type": "execute_result",
          "data": {
            "text/plain": [
              "[['_', '_', '0'], ['_', '_', '0'], ['_', '_', '0']]"
            ]
          },
          "metadata": {},
          "execution_count": 50
        }
      ]
    },
    {
      "cell_type": "code",
      "source": [
        "row = ['_'] * 3\n",
        "board = []\n",
        "for i in range(3):\n",
        "  board.append(row)\n",
        "\n",
        "board[1][2] = \"X\"\n",
        "board"
      ],
      "metadata": {
        "colab": {
          "base_uri": "https://localhost:8080/"
        },
        "id": "Xxx5IK8nS8iw",
        "outputId": "97e31f3c-fb63-47ca-b497-3cfea5509b91"
      },
      "execution_count": 51,
      "outputs": [
        {
          "output_type": "execute_result",
          "data": {
            "text/plain": [
              "[['_', '_', 'X'], ['_', '_', 'X'], ['_', '_', 'X']]"
            ]
          },
          "metadata": {},
          "execution_count": 51
        }
      ]
    },
    {
      "cell_type": "code",
      "source": [
        "board = []\n",
        "for i in range(3):\n",
        "  row = ['_'] * 3\n",
        "  board.append(row)\n",
        "\n",
        "print(board)\n",
        "board[2][0] = \"X\"\n",
        "board"
      ],
      "metadata": {
        "colab": {
          "base_uri": "https://localhost:8080/"
        },
        "id": "nM7LrPrwTHCX",
        "outputId": "44a82dce-2836-4bd6-e0dd-c556820568d9"
      },
      "execution_count": 52,
      "outputs": [
        {
          "output_type": "stream",
          "name": "stdout",
          "text": [
            "[['_', '_', '_'], ['_', '_', '_'], ['_', '_', '_']]\n"
          ]
        },
        {
          "output_type": "execute_result",
          "data": {
            "text/plain": [
              "[['_', '_', '_'], ['_', '_', '_'], ['X', '_', '_']]"
            ]
          },
          "metadata": {},
          "execution_count": 52
        }
      ]
    },
    {
      "cell_type": "code",
      "source": [
        "l = [1,2,3]\n",
        "id(l)"
      ],
      "metadata": {
        "colab": {
          "base_uri": "https://localhost:8080/"
        },
        "id": "25qVVQogTHcw",
        "outputId": "a8e2ef5c-8523-4f4f-c104-813d166052cc"
      },
      "execution_count": 53,
      "outputs": [
        {
          "output_type": "execute_result",
          "data": {
            "text/plain": [
              "137858929034304"
            ]
          },
          "metadata": {},
          "execution_count": 53
        }
      ]
    },
    {
      "cell_type": "code",
      "source": [
        "l *= 2\n",
        "l"
      ],
      "metadata": {
        "colab": {
          "base_uri": "https://localhost:8080/"
        },
        "id": "Mdzu8hOUTW2O",
        "outputId": "f8547e68-fc7a-4119-e7b9-1530abd449b2"
      },
      "execution_count": 54,
      "outputs": [
        {
          "output_type": "execute_result",
          "data": {
            "text/plain": [
              "[1, 2, 3, 1, 2, 3]"
            ]
          },
          "metadata": {},
          "execution_count": 54
        }
      ]
    },
    {
      "cell_type": "code",
      "source": [
        "id(l)"
      ],
      "metadata": {
        "colab": {
          "base_uri": "https://localhost:8080/"
        },
        "id": "NWaMbtirTZuW",
        "outputId": "5f37f28d-2fad-4aa7-c327-012c1c74c470"
      },
      "execution_count": 55,
      "outputs": [
        {
          "output_type": "execute_result",
          "data": {
            "text/plain": [
              "137858929034304"
            ]
          },
          "metadata": {},
          "execution_count": 55
        }
      ]
    },
    {
      "cell_type": "code",
      "source": [
        "t = (1,2,3)\n",
        "id(t)"
      ],
      "metadata": {
        "colab": {
          "base_uri": "https://localhost:8080/"
        },
        "id": "JPe1jrP4TipN",
        "outputId": "b9b09659-2386-4d86-dc66-5e39a5588f43"
      },
      "execution_count": 56,
      "outputs": [
        {
          "output_type": "execute_result",
          "data": {
            "text/plain": [
              "137858926269952"
            ]
          },
          "metadata": {},
          "execution_count": 56
        }
      ]
    },
    {
      "cell_type": "code",
      "source": [
        "t *= 2\n",
        "id(t)"
      ],
      "metadata": {
        "colab": {
          "base_uri": "https://localhost:8080/"
        },
        "id": "DuZwiiD2Tk3v",
        "outputId": "f7245897-fce5-432f-8838-63ca211406da"
      },
      "execution_count": 57,
      "outputs": [
        {
          "output_type": "execute_result",
          "data": {
            "text/plain": [
              "137858927372768"
            ]
          },
          "metadata": {},
          "execution_count": 57
        }
      ]
    },
    {
      "cell_type": "code",
      "source": [
        "t = (1,2,[30,40])\n",
        "print(t)\n",
        "t[2] += [50,60]"
      ],
      "metadata": {
        "colab": {
          "base_uri": "https://localhost:8080/",
          "height": 202
        },
        "id": "qH8fAa81ToZx",
        "outputId": "0dddf42c-dc49-4b56-f000-74caf6c09bed"
      },
      "execution_count": 58,
      "outputs": [
        {
          "output_type": "stream",
          "name": "stdout",
          "text": [
            "(1, 2, [30, 40])\n"
          ]
        },
        {
          "output_type": "error",
          "ename": "TypeError",
          "evalue": "'tuple' object does not support item assignment",
          "traceback": [
            "\u001b[0;31m---------------------------------------------------------------------------\u001b[0m",
            "\u001b[0;31mTypeError\u001b[0m                                 Traceback (most recent call last)",
            "\u001b[0;32m/tmp/ipython-input-1318988559.py\u001b[0m in \u001b[0;36m<cell line: 0>\u001b[0;34m()\u001b[0m\n\u001b[1;32m      1\u001b[0m \u001b[0mt\u001b[0m \u001b[0;34m=\u001b[0m \u001b[0;34m(\u001b[0m\u001b[0;36m1\u001b[0m\u001b[0;34m,\u001b[0m\u001b[0;36m2\u001b[0m\u001b[0;34m,\u001b[0m\u001b[0;34m[\u001b[0m\u001b[0;36m30\u001b[0m\u001b[0;34m,\u001b[0m\u001b[0;36m40\u001b[0m\u001b[0;34m]\u001b[0m\u001b[0;34m)\u001b[0m\u001b[0;34m\u001b[0m\u001b[0;34m\u001b[0m\u001b[0m\n\u001b[1;32m      2\u001b[0m \u001b[0mprint\u001b[0m\u001b[0;34m(\u001b[0m\u001b[0mt\u001b[0m\u001b[0;34m)\u001b[0m\u001b[0;34m\u001b[0m\u001b[0;34m\u001b[0m\u001b[0m\n\u001b[0;32m----> 3\u001b[0;31m \u001b[0mt\u001b[0m\u001b[0;34m[\u001b[0m\u001b[0;36m2\u001b[0m\u001b[0;34m]\u001b[0m \u001b[0;34m+=\u001b[0m \u001b[0;34m[\u001b[0m\u001b[0;36m50\u001b[0m\u001b[0;34m,\u001b[0m\u001b[0;36m60\u001b[0m\u001b[0;34m]\u001b[0m\u001b[0;34m\u001b[0m\u001b[0;34m\u001b[0m\u001b[0m\n\u001b[0m",
            "\u001b[0;31mTypeError\u001b[0m: 'tuple' object does not support item assignment"
          ]
        }
      ]
    },
    {
      "cell_type": "code",
      "source": [
        "print(t)"
      ],
      "metadata": {
        "colab": {
          "base_uri": "https://localhost:8080/"
        },
        "id": "MV4jmK-aTx2Q",
        "outputId": "9f295c05-a237-4506-8973-72dd25126b43"
      },
      "execution_count": 59,
      "outputs": [
        {
          "output_type": "stream",
          "name": "stdout",
          "text": [
            "(1, 2, [30, 40, 50, 60])\n"
          ]
        }
      ]
    },
    {
      "cell_type": "code",
      "source": [
        "fruits = [\"grape\",\"raspberry\",\"apple\", \"banana\"]\n",
        "sorted(fruits)"
      ],
      "metadata": {
        "colab": {
          "base_uri": "https://localhost:8080/"
        },
        "id": "Dem6qoX3T08Y",
        "outputId": "92c9281b-053b-4ff2-9d4b-733fdf195658"
      },
      "execution_count": 60,
      "outputs": [
        {
          "output_type": "execute_result",
          "data": {
            "text/plain": [
              "['apple', 'banana', 'grape', 'raspberry']"
            ]
          },
          "metadata": {},
          "execution_count": 60
        }
      ]
    },
    {
      "cell_type": "code",
      "source": [
        "fruits"
      ],
      "metadata": {
        "colab": {
          "base_uri": "https://localhost:8080/"
        },
        "id": "t_vNwY-LT-j3",
        "outputId": "c23a8be9-f8e2-4f43-beaa-317ad7c311d6"
      },
      "execution_count": 61,
      "outputs": [
        {
          "output_type": "execute_result",
          "data": {
            "text/plain": [
              "['grape', 'raspberry', 'apple', 'banana']"
            ]
          },
          "metadata": {},
          "execution_count": 61
        }
      ]
    },
    {
      "cell_type": "code",
      "source": [
        "sorted(fruits,reverse=True)"
      ],
      "metadata": {
        "colab": {
          "base_uri": "https://localhost:8080/"
        },
        "id": "0NNZu_QpT_7O",
        "outputId": "9ba2f30e-aad8-4f23-fb70-c55c81587ad3"
      },
      "execution_count": 62,
      "outputs": [
        {
          "output_type": "execute_result",
          "data": {
            "text/plain": [
              "['raspberry', 'grape', 'banana', 'apple']"
            ]
          },
          "metadata": {},
          "execution_count": 62
        }
      ]
    },
    {
      "cell_type": "code",
      "source": [
        "sorted(fruits,key=len)"
      ],
      "metadata": {
        "colab": {
          "base_uri": "https://localhost:8080/"
        },
        "id": "jM3HV3GkUEMO",
        "outputId": "128de7c4-8780-46c0-f527-34ab9066d412"
      },
      "execution_count": 63,
      "outputs": [
        {
          "output_type": "execute_result",
          "data": {
            "text/plain": [
              "['grape', 'apple', 'banana', 'raspberry']"
            ]
          },
          "metadata": {},
          "execution_count": 63
        }
      ]
    },
    {
      "cell_type": "code",
      "source": [
        "sorted(fruits,key=len,reverse=True)"
      ],
      "metadata": {
        "colab": {
          "base_uri": "https://localhost:8080/"
        },
        "id": "l27TGuzdUHy5",
        "outputId": "3b59d431-9115-45ed-df3e-0cabdf8ce86d"
      },
      "execution_count": 64,
      "outputs": [
        {
          "output_type": "execute_result",
          "data": {
            "text/plain": [
              "['raspberry', 'banana', 'grape', 'apple']"
            ]
          },
          "metadata": {},
          "execution_count": 64
        }
      ]
    },
    {
      "cell_type": "code",
      "source": [
        "fruits"
      ],
      "metadata": {
        "colab": {
          "base_uri": "https://localhost:8080/"
        },
        "id": "HqWLJgllUMk9",
        "outputId": "403d4206-84b2-4efe-bc6c-6899066e3c74"
      },
      "execution_count": 65,
      "outputs": [
        {
          "output_type": "execute_result",
          "data": {
            "text/plain": [
              "['grape', 'raspberry', 'apple', 'banana']"
            ]
          },
          "metadata": {},
          "execution_count": 65
        }
      ]
    },
    {
      "cell_type": "code",
      "source": [
        "fruits.sort()\n",
        "fruits"
      ],
      "metadata": {
        "colab": {
          "base_uri": "https://localhost:8080/"
        },
        "id": "RJgY27I5UOX1",
        "outputId": "70417dd5-0ad3-4cc3-bd09-1b389891dc4c"
      },
      "execution_count": 66,
      "outputs": [
        {
          "output_type": "execute_result",
          "data": {
            "text/plain": [
              "['apple', 'banana', 'grape', 'raspberry']"
            ]
          },
          "metadata": {},
          "execution_count": 66
        }
      ]
    },
    {
      "cell_type": "code",
      "source": [
        "from array import array\n",
        "from random import random\n",
        "\n",
        "floats = array(\"d\",(random() for _ in range(10**7)))\n",
        "floats[-1]"
      ],
      "metadata": {
        "colab": {
          "base_uri": "https://localhost:8080/"
        },
        "id": "bfjV0U5EUTwn",
        "outputId": "7b326963-0d2f-41ef-f482-ecdc8ed430ec"
      },
      "execution_count": 67,
      "outputs": [
        {
          "output_type": "execute_result",
          "data": {
            "text/plain": [
              "0.10871367738597715"
            ]
          },
          "metadata": {},
          "execution_count": 67
        }
      ]
    },
    {
      "cell_type": "code",
      "source": [
        "with open(\"floats.bin\",\"wb\") as f:\n",
        "  floats.tofile(f)"
      ],
      "metadata": {
        "id": "Fl-ArLuMUgWY"
      },
      "execution_count": 68,
      "outputs": []
    },
    {
      "cell_type": "code",
      "source": [
        "floats2 = array(\"d\")\n",
        "\n",
        "with open(\"floats.bin\", \"rb\") as f:\n",
        "  floats2.fromfile(f, 10**7)\n",
        "floats2[-1]"
      ],
      "metadata": {
        "colab": {
          "base_uri": "https://localhost:8080/"
        },
        "id": "UCMzhI7HUoFt",
        "outputId": "cac7f429-7608-49ab-a131-69402f12adcf"
      },
      "execution_count": 69,
      "outputs": [
        {
          "output_type": "execute_result",
          "data": {
            "text/plain": [
              "0.10871367738597715"
            ]
          },
          "metadata": {},
          "execution_count": 69
        }
      ]
    },
    {
      "cell_type": "code",
      "source": [
        "import array\n",
        "numbers = array.array(\"h\",[-2,-1,0,1,2])\n",
        "memv = memoryview(numbers)\n",
        "len(memv)"
      ],
      "metadata": {
        "colab": {
          "base_uri": "https://localhost:8080/"
        },
        "id": "es21MvUXU11z",
        "outputId": "121c89da-a674-4530-a170-d6d2d5e1abd7"
      },
      "execution_count": 70,
      "outputs": [
        {
          "output_type": "execute_result",
          "data": {
            "text/plain": [
              "5"
            ]
          },
          "metadata": {},
          "execution_count": 70
        }
      ]
    },
    {
      "cell_type": "code",
      "source": [
        "memv[0]"
      ],
      "metadata": {
        "colab": {
          "base_uri": "https://localhost:8080/"
        },
        "id": "Ak036m5SVDQG",
        "outputId": "84e735e7-1bf0-48f8-d14b-cecc689205b8"
      },
      "execution_count": 71,
      "outputs": [
        {
          "output_type": "execute_result",
          "data": {
            "text/plain": [
              "-2"
            ]
          },
          "metadata": {},
          "execution_count": 71
        }
      ]
    },
    {
      "cell_type": "code",
      "source": [
        "memv_oct = memv.cast(\"B\")\n",
        "memv_oct.tolist()"
      ],
      "metadata": {
        "colab": {
          "base_uri": "https://localhost:8080/"
        },
        "id": "NksTorikVE8m",
        "outputId": "1c8bcb42-9e5c-46a3-c9b8-e9a40e8264a7"
      },
      "execution_count": 72,
      "outputs": [
        {
          "output_type": "execute_result",
          "data": {
            "text/plain": [
              "[254, 255, 255, 255, 0, 0, 1, 0, 2, 0]"
            ]
          },
          "metadata": {},
          "execution_count": 72
        }
      ]
    },
    {
      "cell_type": "code",
      "source": [
        "memv_oct[5] = 4\n",
        "numbers"
      ],
      "metadata": {
        "colab": {
          "base_uri": "https://localhost:8080/"
        },
        "id": "RxEJ6clOVKyy",
        "outputId": "699ebeee-09d9-4333-f0f8-bff7985d5365"
      },
      "execution_count": 73,
      "outputs": [
        {
          "output_type": "execute_result",
          "data": {
            "text/plain": [
              "array('h', [-2, -1, 1024, 1, 2])"
            ]
          },
          "metadata": {},
          "execution_count": 73
        }
      ]
    },
    {
      "cell_type": "code",
      "source": [
        "data = bytearray(b\"hello world\")\n",
        "mv = memoryview(data)\n",
        "\n",
        "print(mv[0])\n",
        "mv[0] = 72\n",
        "print(data)"
      ],
      "metadata": {
        "colab": {
          "base_uri": "https://localhost:8080/"
        },
        "id": "U-FbX_n8VPH9",
        "outputId": "4d5ff1aa-fbbd-4c85-c9df-53a70342aa0a"
      },
      "execution_count": 74,
      "outputs": [
        {
          "output_type": "stream",
          "name": "stdout",
          "text": [
            "104\n",
            "bytearray(b'Hello world')\n"
          ]
        }
      ]
    },
    {
      "cell_type": "code",
      "source": [
        "import numpy\n",
        "a = numpy.arange(12)\n",
        "a"
      ],
      "metadata": {
        "colab": {
          "base_uri": "https://localhost:8080/"
        },
        "id": "3ASMD0NUVaQt",
        "outputId": "e2436f38-11e4-4e55-ef8e-5970275fae4f"
      },
      "execution_count": 75,
      "outputs": [
        {
          "output_type": "execute_result",
          "data": {
            "text/plain": [
              "array([ 0,  1,  2,  3,  4,  5,  6,  7,  8,  9, 10, 11])"
            ]
          },
          "metadata": {},
          "execution_count": 75
        }
      ]
    },
    {
      "cell_type": "code",
      "source": [
        "type(a)"
      ],
      "metadata": {
        "colab": {
          "base_uri": "https://localhost:8080/"
        },
        "id": "2Q2uZgihVeun",
        "outputId": "d21dbbb1-9120-407a-859c-823d3c2eff89"
      },
      "execution_count": 76,
      "outputs": [
        {
          "output_type": "execute_result",
          "data": {
            "text/plain": [
              "numpy.ndarray"
            ]
          },
          "metadata": {},
          "execution_count": 76
        }
      ]
    },
    {
      "cell_type": "code",
      "source": [
        "a.shape"
      ],
      "metadata": {
        "colab": {
          "base_uri": "https://localhost:8080/"
        },
        "id": "ttwMFnuoVhLG",
        "outputId": "f93e1618-6deb-4984-d128-81f89e566d7c"
      },
      "execution_count": 77,
      "outputs": [
        {
          "output_type": "execute_result",
          "data": {
            "text/plain": [
              "(12,)"
            ]
          },
          "metadata": {},
          "execution_count": 77
        }
      ]
    },
    {
      "cell_type": "code",
      "source": [
        "a.shape = 3,4\n",
        "a"
      ],
      "metadata": {
        "colab": {
          "base_uri": "https://localhost:8080/"
        },
        "id": "5B2m3FrAViyh",
        "outputId": "7e5a82a9-c73f-484f-c8c5-69a7871b41be"
      },
      "execution_count": 78,
      "outputs": [
        {
          "output_type": "execute_result",
          "data": {
            "text/plain": [
              "array([[ 0,  1,  2,  3],\n",
              "       [ 4,  5,  6,  7],\n",
              "       [ 8,  9, 10, 11]])"
            ]
          },
          "metadata": {},
          "execution_count": 78
        }
      ]
    },
    {
      "cell_type": "code",
      "source": [
        "a[2]"
      ],
      "metadata": {
        "colab": {
          "base_uri": "https://localhost:8080/"
        },
        "id": "4NIvBFdkVmM5",
        "outputId": "6276ab38-780c-432c-fa3e-9c11e0b26e2a"
      },
      "execution_count": 79,
      "outputs": [
        {
          "output_type": "execute_result",
          "data": {
            "text/plain": [
              "array([ 8,  9, 10, 11])"
            ]
          },
          "metadata": {},
          "execution_count": 79
        }
      ]
    },
    {
      "cell_type": "code",
      "source": [
        "a[2,1]"
      ],
      "metadata": {
        "colab": {
          "base_uri": "https://localhost:8080/"
        },
        "id": "0ylkbHvCVncV",
        "outputId": "af9050ba-8b38-4a65-d156-da0b073d3874"
      },
      "execution_count": 80,
      "outputs": [
        {
          "output_type": "execute_result",
          "data": {
            "text/plain": [
              "np.int64(9)"
            ]
          },
          "metadata": {},
          "execution_count": 80
        }
      ]
    },
    {
      "cell_type": "code",
      "source": [
        "a[:,1]"
      ],
      "metadata": {
        "colab": {
          "base_uri": "https://localhost:8080/"
        },
        "id": "jYFXIr0tVo1Z",
        "outputId": "547693d4-3e19-49e4-e1c8-b90ab6c0fa87"
      },
      "execution_count": 81,
      "outputs": [
        {
          "output_type": "execute_result",
          "data": {
            "text/plain": [
              "array([1, 5, 9])"
            ]
          },
          "metadata": {},
          "execution_count": 81
        }
      ]
    },
    {
      "cell_type": "code",
      "source": [
        "a.transpose()"
      ],
      "metadata": {
        "colab": {
          "base_uri": "https://localhost:8080/"
        },
        "id": "R1CirtJUVsjd",
        "outputId": "9ef4849b-dd5b-43de-bcb4-a7f7d8cca336"
      },
      "execution_count": 82,
      "outputs": [
        {
          "output_type": "execute_result",
          "data": {
            "text/plain": [
              "array([[ 0,  4,  8],\n",
              "       [ 1,  5,  9],\n",
              "       [ 2,  6, 10],\n",
              "       [ 3,  7, 11]])"
            ]
          },
          "metadata": {},
          "execution_count": 82
        }
      ]
    }
  ]
}